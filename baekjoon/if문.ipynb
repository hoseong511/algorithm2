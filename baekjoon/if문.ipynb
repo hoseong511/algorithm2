{
 "cells": [
  {
   "cell_type": "markdown",
   "id": "classical-specialist",
   "metadata": {},
   "source": [
    "### 1330"
   ]
  },
  {
   "cell_type": "code",
   "execution_count": 4,
   "id": "uniform-rouge",
   "metadata": {},
   "outputs": [
    {
     "name": "stdin",
     "output_type": "stream",
     "text": [
      " 1 1\n"
     ]
    },
    {
     "name": "stdout",
     "output_type": "stream",
     "text": [
      "==\n"
     ]
    }
   ],
   "source": [
    "a,b = map(int, input().split())\n",
    "print(\">\" if a>b else (\"==\" if a == b else \"<\"))"
   ]
  },
  {
   "cell_type": "markdown",
   "id": "direct-balloon",
   "metadata": {},
   "source": [
    "### 9498"
   ]
  },
  {
   "cell_type": "code",
   "execution_count": 5,
   "id": "affecting-landscape",
   "metadata": {},
   "outputs": [
    {
     "name": "stdin",
     "output_type": "stream",
     "text": [
      " 80\n"
     ]
    },
    {
     "name": "stdout",
     "output_type": "stream",
     "text": [
      "B\n"
     ]
    }
   ],
   "source": [
    "a = int(input())\n",
    "\n",
    "if a >= 90:\n",
    "    print(\"A\")\n",
    "elif a >= 80:\n",
    "    print(\"B\")\n",
    "elif a >= 70:\n",
    "    print(\"C\")\n",
    "elif a >= 60:\n",
    "    print(\"D\")\n",
    "else:\n",
    "    print(\"F\")"
   ]
  },
  {
   "cell_type": "markdown",
   "id": "thrown-count",
   "metadata": {},
   "source": [
    "### 2753"
   ]
  },
  {
   "cell_type": "code",
   "execution_count": 28,
   "id": "southern-reality",
   "metadata": {},
   "outputs": [
    {
     "name": "stdin",
     "output_type": "stream",
     "text": [
      " 1\n"
     ]
    },
    {
     "name": "stdout",
     "output_type": "stream",
     "text": [
      "0\n"
     ]
    }
   ],
   "source": [
    "# 4의 배수? yes 100의 배수? no -> 윤년\n",
    "# 4의 배수? yes 100의 배수? yes  400의 배수? yes -> 윤년\n",
    "a = int(input())\n",
    "b=1\n",
    "if a%4 ==0:\n",
    "    if a%100 == 0:\n",
    "        if a%400 == 0:\n",
    "            b=1\n",
    "        else:\n",
    "            b=0\n",
    "    else:\n",
    "        b=1    \n",
    "else:\n",
    "    b=0\n",
    "print(b)"
   ]
  },
  {
   "cell_type": "markdown",
   "id": "korean-chest",
   "metadata": {},
   "source": [
    "### 13681"
   ]
  },
  {
   "cell_type": "code",
   "execution_count": 14,
   "id": "veterinary-dancing",
   "metadata": {},
   "outputs": [
    {
     "name": "stdin",
     "output_type": "stream",
     "text": [
      " 12\n",
      " 5\n"
     ]
    },
    {
     "name": "stdout",
     "output_type": "stream",
     "text": [
      "1\n"
     ]
    }
   ],
   "source": [
    "x = int(input())\n",
    "y= int(input())\n",
    "if x>0 and y>0:\n",
    "    print(1)\n",
    "elif x>0 and y<0:\n",
    "    print(4)\n",
    "elif x<0 and y>0:\n",
    "    print(2)\n",
    "else:\n",
    "    print(3)\n"
   ]
  },
  {
   "cell_type": "code",
   "execution_count": 16,
   "id": "surprising-duplicate",
   "metadata": {},
   "outputs": [
    {
     "name": "stdin",
     "output_type": "stream",
     "text": [
      " -1\n"
     ]
    },
    {
     "name": "stdout",
     "output_type": "stream",
     "text": [
      "False\n"
     ]
    },
    {
     "name": "stdin",
     "output_type": "stream",
     "text": [
      " -1\n"
     ]
    },
    {
     "name": "stdout",
     "output_type": "stream",
     "text": [
      "0\n"
     ]
    }
   ],
   "source": [
    "# True False를 이용한 문제풀이\n",
    "print((int(input())>0))\n",
    "print((int(input())>0)*2)"
   ]
  },
  {
   "cell_type": "markdown",
   "id": "private-department",
   "metadata": {},
   "source": [
    "### 2884"
   ]
  },
  {
   "cell_type": "code",
   "execution_count": 23,
   "id": "automated-treat",
   "metadata": {},
   "outputs": [
    {
     "name": "stdin",
     "output_type": "stream",
     "text": [
      " 0 30\n"
     ]
    },
    {
     "name": "stdout",
     "output_type": "stream",
     "text": [
      "23 45\n"
     ]
    }
   ],
   "source": [
    "# 시 분 계산 -> (분기준으로) 45분 이상이면 \n",
    "#          -> 45분보다 미만이면 시 -1, (분 - 45) +60\n",
    "a, b = map(int, input().split())\n",
    "if b >=45 :\n",
    "    print(a, b-45)\n",
    "else:\n",
    "    print(23 if a-1 < 0 else a-1, (b-45)+60)"
   ]
  },
  {
   "cell_type": "code",
   "execution_count": 25,
   "id": "alpine-appearance",
   "metadata": {},
   "outputs": [
    {
     "name": "stdout",
     "output_type": "stream",
     "text": [
      "23\n"
     ]
    }
   ],
   "source": [
    "# 나머지를 이용한 풀이\n",
    "print((-1)%24)"
   ]
  }
 ],
 "metadata": {
  "kernelspec": {
   "display_name": "Python 3",
   "language": "python",
   "name": "python3"
  },
  "language_info": {
   "codemirror_mode": {
    "name": "ipython",
    "version": 3
   },
   "file_extension": ".py",
   "mimetype": "text/x-python",
   "name": "python",
   "nbconvert_exporter": "python",
   "pygments_lexer": "ipython3",
   "version": "3.8.8"
  }
 },
 "nbformat": 4,
 "nbformat_minor": 5
}
