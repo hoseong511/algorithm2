{
 "cells": [
  {
   "cell_type": "markdown",
   "id": "rational-johns",
   "metadata": {},
   "source": [
    "### 10828"
   ]
  },
  {
   "cell_type": "code",
   "execution_count": 3,
   "id": "endangered-nursing",
   "metadata": {
    "tags": []
   },
   "outputs": [
    {
     "ename": "ValueError",
     "evalue": "invalid literal for int() with base 10: ''",
     "output_type": "error",
     "traceback": [
      "\u001b[0;31m---------------------------------------------------------------------------\u001b[0m",
      "\u001b[0;31mValueError\u001b[0m                                Traceback (most recent call last)",
      "\u001b[0;32m<ipython-input-3-4876be40663c>\u001b[0m in \u001b[0;36m<module>\u001b[0;34m\u001b[0m\n\u001b[1;32m     13\u001b[0m \u001b[0;34m\u001b[0m\u001b[0m\n\u001b[1;32m     14\u001b[0m \u001b[0marr\u001b[0m \u001b[0;34m=\u001b[0m\u001b[0mlist\u001b[0m\u001b[0;34m(\u001b[0m\u001b[0;34m)\u001b[0m\u001b[0;34m\u001b[0m\u001b[0;34m\u001b[0m\u001b[0m\n\u001b[0;32m---> 15\u001b[0;31m \u001b[0mn\u001b[0m \u001b[0;34m=\u001b[0m \u001b[0mint\u001b[0m\u001b[0;34m(\u001b[0m\u001b[0msys\u001b[0m\u001b[0;34m.\u001b[0m\u001b[0mstdin\u001b[0m\u001b[0;34m.\u001b[0m\u001b[0mreadline\u001b[0m\u001b[0;34m(\u001b[0m\u001b[0;34m)\u001b[0m\u001b[0;34m.\u001b[0m\u001b[0mrstrip\u001b[0m\u001b[0;34m(\u001b[0m\u001b[0;34m)\u001b[0m\u001b[0;34m)\u001b[0m\u001b[0;34m\u001b[0m\u001b[0;34m\u001b[0m\u001b[0m\n\u001b[0m\u001b[1;32m     16\u001b[0m \u001b[0;32mfor\u001b[0m \u001b[0mindex\u001b[0m \u001b[0;32min\u001b[0m \u001b[0mrange\u001b[0m\u001b[0;34m(\u001b[0m\u001b[0mn\u001b[0m\u001b[0;34m)\u001b[0m\u001b[0;34m:\u001b[0m\u001b[0;34m\u001b[0m\u001b[0;34m\u001b[0m\u001b[0m\n\u001b[1;32m     17\u001b[0m   \u001b[0mcmd\u001b[0m \u001b[0;34m=\u001b[0m \u001b[0msys\u001b[0m\u001b[0;34m.\u001b[0m\u001b[0mstdin\u001b[0m\u001b[0;34m.\u001b[0m\u001b[0mreadline\u001b[0m\u001b[0;34m(\u001b[0m\u001b[0;34m)\u001b[0m\u001b[0;34m.\u001b[0m\u001b[0mrstrip\u001b[0m\u001b[0;34m(\u001b[0m\u001b[0;34m)\u001b[0m\u001b[0;34m\u001b[0m\u001b[0;34m\u001b[0m\u001b[0m\n",
      "\u001b[0;31mValueError\u001b[0m: invalid literal for int() with base 10: ''"
     ]
    }
   ],
   "source": [
    "# def push(x): arr.append(int(x))\n",
    "# def pop(): \n",
    "#   try:\n",
    "#     i = arr[-1]\n",
    "#     del arr[-1]\n",
    "#   except:\n",
    "#     i = -1 \n",
    "#   return i \n",
    "# def size(): return len(arr)\n",
    "# def empty(): return 0 if len(arr) !=0 else 1\n",
    "# def top(): return arr[-1] if len(arr) !=0 else -1\n",
    "import sys\n",
    "\n",
    "arr =list()\n",
    "n = int(input())  \n",
    "for index in range(n):\n",
    "  cmd = sys.stdin.readline().rstrip()\n",
    "  try:\n",
    "    cmd, data = cmd.split()\n",
    "  except:\n",
    "    pass\n",
    "  if cmd ==\"push\":\n",
    "    arr.append(int(data))\n",
    "  elif cmd ==\"pop\":\n",
    "    try:\n",
    "      data = arr.pop()\n",
    "      print(data)\n",
    "    except:\n",
    "      print(-1)\n",
    "  elif cmd ==\"size\":\n",
    "    print(len(arr))\n",
    "  elif cmd ==\"empty\":\n",
    "    print(0 if len(arr) !=0 else 1)\n",
    "  elif cmd == \"top\":\n",
    "    print(arr[-1] if len(arr) !=0 else -1)\n",
    "\n",
    "  "
   ]
  },
  {
   "cell_type": "markdown",
   "id": "worth-progress",
   "metadata": {},
   "source": []
  },
  {
   "cell_type": "code",
   "execution_count": 10,
   "id": "certain-embassy",
   "metadata": {},
   "outputs": [
    {
     "name": "stdin",
     "output_type": "stream",
     "text": [
      " 3\n"
     ]
    },
    {
     "name": "stdout",
     "output_type": "stream",
     "text": [
      "0\n",
      "1\n",
      "2\n"
     ]
    }
   ],
   "source": [
    "import sys\n",
    "n = int(input())\n",
    "arr=list()\n",
    "for _ in range(n):\n",
    "  a = sys.stdin.readline().rstrip()\n",
    "  print(_)"
   ]
  },
  {
   "cell_type": "markdown",
   "id": "critical-serbia",
   "metadata": {},
   "source": [
    "### 9012"
   ]
  },
  {
   "cell_type": "markdown",
   "id": "absent-brand",
   "metadata": {},
   "source": [
    "### 4949"
   ]
  },
  {
   "cell_type": "markdown",
   "id": "bottom-pipeline",
   "metadata": {},
   "source": [
    "### 1874"
   ]
  },
  {
   "cell_type": "markdown",
   "id": "illegal-alarm",
   "metadata": {},
   "source": [
    "### 17298"
   ]
  },
  {
   "cell_type": "code",
   "execution_count": null,
   "id": "powered-frame",
   "metadata": {},
   "outputs": [],
   "source": []
  }
 ],
 "metadata": {
  "kernelspec": {
   "display_name": "Python 3",
   "language": "python",
   "name": "python3"
  },
  "language_info": {
   "codemirror_mode": {
    "name": "ipython",
    "version": 3
   },
   "file_extension": ".py",
   "mimetype": "text/x-python",
   "name": "python",
   "nbconvert_exporter": "python",
   "pygments_lexer": "ipython3",
   "version": "3.8.8"
  }
 },
 "nbformat": 4,
 "nbformat_minor": 5
}
