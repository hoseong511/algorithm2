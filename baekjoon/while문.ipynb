{
 "cells": [
  {
   "cell_type": "markdown",
   "id": "indirect-youth",
   "metadata": {},
   "source": [
    "### 10952"
   ]
  },
  {
   "cell_type": "code",
   "execution_count": 4,
   "id": "judicial-amazon",
   "metadata": {},
   "outputs": [
    {
     "name": "stdin",
     "output_type": "stream",
     "text": [
      " 1 1\n"
     ]
    },
    {
     "name": "stdout",
     "output_type": "stream",
     "text": [
      "2\n"
     ]
    },
    {
     "name": "stdin",
     "output_type": "stream",
     "text": [
      " 2 2\n"
     ]
    },
    {
     "name": "stdout",
     "output_type": "stream",
     "text": [
      "4\n"
     ]
    },
    {
     "name": "stdin",
     "output_type": "stream",
     "text": [
      " 3 3\n"
     ]
    },
    {
     "name": "stdout",
     "output_type": "stream",
     "text": [
      "6\n"
     ]
    },
    {
     "name": "stdin",
     "output_type": "stream",
     "text": [
      " 0 0\n"
     ]
    }
   ],
   "source": [
    "while(True):\n",
    "  a,b = map(int,input().split())\n",
    "  if(a==0 and b==0):\n",
    "    break\n",
    "  print(a+b)  "
   ]
  },
  {
   "cell_type": "markdown",
   "id": "exciting-myrtle",
   "metadata": {},
   "source": [
    "### 10951"
   ]
  },
  {
   "cell_type": "code",
   "execution_count": 5,
   "id": "registered-interest",
   "metadata": {},
   "outputs": [
    {
     "name": "stdin",
     "output_type": "stream",
     "text": [
      " 1 2\n"
     ]
    },
    {
     "name": "stdout",
     "output_type": "stream",
     "text": [
      "3\n"
     ]
    },
    {
     "name": "stdin",
     "output_type": "stream",
     "text": [
      " 3 3\n"
     ]
    },
    {
     "name": "stdout",
     "output_type": "stream",
     "text": [
      "6\n"
     ]
    },
    {
     "name": "stdin",
     "output_type": "stream",
     "text": [
      " 4 4\n"
     ]
    },
    {
     "name": "stdout",
     "output_type": "stream",
     "text": [
      "8\n"
     ]
    },
    {
     "name": "stdin",
     "output_type": "stream",
     "text": [
      " 5 5\n"
     ]
    },
    {
     "name": "stdout",
     "output_type": "stream",
     "text": [
      "10\n"
     ]
    },
    {
     "name": "stdin",
     "output_type": "stream",
     "text": [
      " \n"
     ]
    }
   ],
   "source": [
    "while (True):\n",
    "  try:\n",
    "      a, b = map(int,input().split())\n",
    "      print(a + b)\n",
    "  except:\n",
    "      break"
   ]
  },
  {
   "cell_type": "markdown",
   "id": "fatty-encyclopedia",
   "metadata": {},
   "source": [
    "### 1110"
   ]
  },
  {
   "cell_type": "code",
   "execution_count": 29,
   "id": "instant-andrews",
   "metadata": {},
   "outputs": [
    {
     "name": "stdin",
     "output_type": "stream",
     "text": [
      " 6\n"
     ]
    },
    {
     "name": "stdout",
     "output_type": "stream",
     "text": [
      "20\n"
     ]
    }
   ],
   "source": [
    "# 26 ---> 2 6 8 -> 6 8 14 -> 8 4 12 -> 4 2 6 \n",
    "count =0\n",
    "num = input()\n",
    "\n",
    "if int(num) <10:\n",
    "  num = \"0\"+num\n",
    "  \n",
    "a,b = map(int,num)  \n",
    "n1,n2 = a,b\n",
    "\n",
    "while True:  \n",
    "  n_sum = str(n1 + n2)\n",
    "  n1 = n2\n",
    "  n2 = int(n_sum[-1])\n",
    "  count += 1  \n",
    "  \n",
    "  if n1 == a and n2 == b:\n",
    "    break\n",
    "\n",
    "print(count)"
   ]
  },
  {
   "cell_type": "code",
   "execution_count": null,
   "id": "contained-africa",
   "metadata": {},
   "outputs": [],
   "source": []
  }
 ],
 "metadata": {
  "kernelspec": {
   "display_name": "Python 3",
   "language": "python",
   "name": "python3"
  },
  "language_info": {
   "codemirror_mode": {
    "name": "ipython",
    "version": 3
   },
   "file_extension": ".py",
   "mimetype": "text/x-python",
   "name": "python",
   "nbconvert_exporter": "python",
   "pygments_lexer": "ipython3",
   "version": "3.8.8"
  }
 },
 "nbformat": 4,
 "nbformat_minor": 5
}
