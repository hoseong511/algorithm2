{
 "cells": [
  {
   "cell_type": "markdown",
   "id": "touched-congress",
   "metadata": {},
   "source": [
    "<font color='#BF360C' size=\"5px\"> 링크드리스트 구현해보기"
   ]
  },
  {
   "cell_type": "code",
   "execution_count": 1,
   "id": "consecutive-laundry",
   "metadata": {},
   "outputs": [],
   "source": [
    "class Node:\n",
    "    def __init__(self, data):\n",
    "        self.data = data\n",
    "        self.next = None"
   ]
  },
  {
   "cell_type": "code",
   "execution_count": 8,
   "id": "speaking-royalty",
   "metadata": {},
   "outputs": [],
   "source": [
    "node1 = Node(1)\n",
    "node2 = Node(2)\n",
    "node1.next = node2\n",
    "head = node1 #node1의 주소 정보를 저장(처음노드의 정보)"
   ]
  },
  {
   "cell_type": "code",
   "execution_count": 9,
   "id": "included-pledge",
   "metadata": {},
   "outputs": [
    {
     "name": "stdout",
     "output_type": "stream",
     "text": [
      "<__main__.Node object at 0x7fee801d72b0>\n",
      "<__main__.Node object at 0x7fee801d72b0>\n"
     ]
    }
   ],
   "source": [
    "print(node1.next)\n",
    "print(node2)"
   ]
  },
  {
   "cell_type": "code",
   "execution_count": 10,
   "id": "willing-illinois",
   "metadata": {},
   "outputs": [],
   "source": [
    "class Node:\n",
    "  def __init__(self, data, next=None):\n",
    "    self.data = data\n",
    "    self.next = next\n",
    "\n",
    "def add(data): # 이 add함수는 마지막 노드에 새로운 노드를 추가하는 방식\n",
    "  node = head\n",
    "  while node.next:  # 마지막 노드를 찾는 과정\n",
    "    node = node.next\n",
    "  node.next = Node(data)\n",
    "  \n",
    "  "
   ]
  },
  {
   "cell_type": "code",
   "execution_count": 11,
   "id": "southern-count",
   "metadata": {},
   "outputs": [],
   "source": [
    "node1 = Node(1)\n",
    "head = node1 #node1의 주소 정보를 저장(처음노드의 정보)\n",
    "for index in range(2,10):\n",
    "  add(index)"
   ]
  },
  {
   "cell_type": "code",
   "execution_count": 20,
   "id": "approximate-heater",
   "metadata": {},
   "outputs": [
    {
     "name": "stdout",
     "output_type": "stream",
     "text": [
      "<__main__.Node object at 0x7fee801d7a90> 1 <__main__.Node object at 0x7fee801d7280>\n",
      "<__main__.Node object at 0x7fee801d7280> 2 <__main__.Node object at 0x7fee801d7490>\n",
      "<__main__.Node object at 0x7fee801d7490> 3 <__main__.Node object at 0x7fee801d7f10>\n",
      "<__main__.Node object at 0x7fee801d7f10> 4 <__main__.Node object at 0x7fee801d7ee0>\n",
      "<__main__.Node object at 0x7fee801d7ee0> 5 <__main__.Node object at 0x7fee801d71f0>\n",
      "<__main__.Node object at 0x7fee801d71f0> 6 <__main__.Node object at 0x7fee801d7e50>\n",
      "<__main__.Node object at 0x7fee801d7e50> 7 <__main__.Node object at 0x7fee801f8070>\n",
      "<__main__.Node object at 0x7fee801f8070> 8 <__main__.Node object at 0x7fee801f8100>\n",
      "<__main__.Node object at 0x7fee801f8100> 9 None\n"
     ]
    }
   ],
   "source": [
    "node = head\n",
    "while node.next:\n",
    "  print(node, node.data, node.next) # 현재 노드의 주소, 노드의 데이터, 노드의 포인터(다음주소)\n",
    "  node=node.next\n",
    "  \n",
    "print(node, node.data, node.next)"
   ]
  },
  {
   "cell_type": "code",
   "execution_count": 46,
   "id": "mineral-sapphire",
   "metadata": {},
   "outputs": [],
   "source": [
    "class Node:\n",
    "    def __init__(self,data,next=None):\n",
    "        self.data = data\n",
    "        self.next = next\n",
    "    \n",
    "class NodeMgmt:\n",
    "    def __init__(self, data):\n",
    "        self.head = Node(data)\n",
    "\n",
    "    def add(self, data):\n",
    "        if self.head == '':\n",
    "            self.head = Node(data)\n",
    "\n",
    "        node = self.head\n",
    "        while node.next:\n",
    "            node = node.next\n",
    "\n",
    "        node.next = Node(data)\n",
    "\n",
    "    def description(self):\n",
    "        if self.head == '':\n",
    "            print(\"no data!\")\n",
    "        node = self.head\n",
    "        while node:\n",
    "            print(node.data)\n",
    "            node = node.next\n",
    "        print(\"end\")    \n",
    "\n",
    "    def search_insert(self,new_data,data):\n",
    "        node = self.head\n",
    "        while node:\n",
    "            if new_data == node.data:\n",
    "                print(\"already exists\")\n",
    "                return   \n",
    "            \n",
    "            if data != node.data:\n",
    "                node = node.next\n",
    "                break\n",
    "        new = Node(new_data)  \n",
    "        tmp = node.next\n",
    "        node.next = new\n",
    "        new.next = tmp        \n",
    "        "
   ]
  },
  {
   "cell_type": "code",
   "execution_count": 47,
   "id": "suspended-spice",
   "metadata": {},
   "outputs": [],
   "source": [
    "linkedlist = NodeMgmt(0)"
   ]
  },
  {
   "cell_type": "code",
   "execution_count": 48,
   "id": "automotive-abortion",
   "metadata": {},
   "outputs": [],
   "source": [
    "for i in range(1,10):\n",
    "    linkedlist.add(i)"
   ]
  },
  {
   "cell_type": "code",
   "execution_count": 49,
   "id": "dominant-inventory",
   "metadata": {},
   "outputs": [
    {
     "name": "stdout",
     "output_type": "stream",
     "text": [
      "0\n",
      "1\n",
      "2\n",
      "3\n",
      "4\n",
      "5\n",
      "6\n",
      "7\n",
      "8\n",
      "9\n",
      "end\n"
     ]
    }
   ],
   "source": [
    "linkedlist.description()"
   ]
  },
  {
   "cell_type": "code",
   "execution_count": 53,
   "id": "missing-suffering",
   "metadata": {},
   "outputs": [
    {
     "name": "stdout",
     "output_type": "stream",
     "text": [
      "0\n",
      "1\n",
      "1.5\n",
      "1.5\n",
      "1.5\n",
      "1.5\n",
      "2\n",
      "3\n",
      "4\n",
      "5\n",
      "6\n",
      "7\n",
      "8\n",
      "9\n",
      "end\n"
     ]
    }
   ],
   "source": [
    "linkedlist.search_insert(1.5,3)\n",
    "linkedlist.description()"
   ]
  },
  {
   "cell_type": "code",
   "execution_count": null,
   "id": "fixed-transcription",
   "metadata": {},
   "outputs": [],
   "source": []
  }
 ],
 "metadata": {
  "kernelspec": {
   "display_name": "Python 3",
   "language": "python",
   "name": "python3"
  },
  "language_info": {
   "codemirror_mode": {
    "name": "ipython",
    "version": 3
   },
   "file_extension": ".py",
   "mimetype": "text/x-python",
   "name": "python",
   "nbconvert_exporter": "python",
   "pygments_lexer": "ipython3",
   "version": "3.8.8"
  }
 },
 "nbformat": 4,
 "nbformat_minor": 5
}
