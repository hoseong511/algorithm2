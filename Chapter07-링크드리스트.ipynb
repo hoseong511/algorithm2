{
 "cells": [
  {
   "cell_type": "markdown",
   "id": "wound-complaint",
   "metadata": {},
   "source": [
    "<font color='#BF360C' size=\"5px\"> 링크드리스트 구현해보기"
   ]
  },
  {
   "cell_type": "code",
   "execution_count": 1,
   "id": "marked-intake",
   "metadata": {},
   "outputs": [],
   "source": [
    "class Node:\n",
    "  def __init__(self, data):\n",
    "    self.data = data\n",
    "    self.next = None"
   ]
  },
  {
   "cell_type": "code",
   "execution_count": 8,
   "id": "joint-outline",
   "metadata": {},
   "outputs": [],
   "source": [
    "node1 = Node(1)\n",
    "node2 = Node(2)\n",
    "node1.next = node2\n",
    "head = node1 #node1의 주소 정보를 저장(처음노드의 정보)"
   ]
  },
  {
   "cell_type": "code",
   "execution_count": 9,
   "id": "auburn-clearance",
   "metadata": {},
   "outputs": [
    {
     "name": "stdout",
     "output_type": "stream",
     "text": [
      "<__main__.Node object at 0x7fee801d72b0>\n",
      "<__main__.Node object at 0x7fee801d72b0>\n"
     ]
    }
   ],
   "source": [
    "print(node1.next)\n",
    "print(node2)"
   ]
  },
  {
   "cell_type": "code",
   "execution_count": 10,
   "id": "cardiovascular-degree",
   "metadata": {},
   "outputs": [],
   "source": [
    "class Node:\n",
    "  def __init__(self, data, next=None):\n",
    "    self.data = data\n",
    "    self.next = next\n",
    "\n",
    "def add(data): # 이 add함수는 마지막 노드에 새로운 노드를 추가하는 방식\n",
    "  node = head\n",
    "  while node.next:  # 마지막 노드를 찾는 과정\n",
    "    node = node.next\n",
    "  node.next = Node(data)\n",
    "  \n",
    "  "
   ]
  },
  {
   "cell_type": "code",
   "execution_count": 11,
   "id": "identical-directory",
   "metadata": {},
   "outputs": [],
   "source": [
    "node1 = Node(1)\n",
    "head = node1 #node1의 주소 정보를 저장(처음노드의 정보)\n",
    "for index in range(2,10):\n",
    "  add(index)"
   ]
  },
  {
   "cell_type": "code",
   "execution_count": 20,
   "id": "wrong-dispute",
   "metadata": {},
   "outputs": [
    {
     "name": "stdout",
     "output_type": "stream",
     "text": [
      "<__main__.Node object at 0x7fee801d7a90> 1 <__main__.Node object at 0x7fee801d7280>\n",
      "<__main__.Node object at 0x7fee801d7280> 2 <__main__.Node object at 0x7fee801d7490>\n",
      "<__main__.Node object at 0x7fee801d7490> 3 <__main__.Node object at 0x7fee801d7f10>\n",
      "<__main__.Node object at 0x7fee801d7f10> 4 <__main__.Node object at 0x7fee801d7ee0>\n",
      "<__main__.Node object at 0x7fee801d7ee0> 5 <__main__.Node object at 0x7fee801d71f0>\n",
      "<__main__.Node object at 0x7fee801d71f0> 6 <__main__.Node object at 0x7fee801d7e50>\n",
      "<__main__.Node object at 0x7fee801d7e50> 7 <__main__.Node object at 0x7fee801f8070>\n",
      "<__main__.Node object at 0x7fee801f8070> 8 <__main__.Node object at 0x7fee801f8100>\n",
      "<__main__.Node object at 0x7fee801f8100> 9 None\n"
     ]
    }
   ],
   "source": [
    "node = head\n",
    "while node.next:\n",
    "  print(node, node.data, node.next) # 현재 노드의 주소, 노드의 데이터, 노드의 포인터(다음주소)\n",
    "  node=node.next\n",
    "  \n",
    "print(node, node.data, node.next)"
   ]
  },
  {
   "cell_type": "code",
   "execution_count": null,
   "id": "noticed-classroom",
   "metadata": {},
   "outputs": [],
   "source": []
  }
 ],
 "metadata": {
  "kernelspec": {
   "display_name": "Python 3",
   "language": "python",
   "name": "python3"
  },
  "language_info": {
   "codemirror_mode": {
    "name": "ipython",
    "version": 3
   },
   "file_extension": ".py",
   "mimetype": "text/x-python",
   "name": "python",
   "nbconvert_exporter": "python",
   "pygments_lexer": "ipython3",
   "version": "3.8.8"
  }
 },
 "nbformat": 4,
 "nbformat_minor": 5
}
