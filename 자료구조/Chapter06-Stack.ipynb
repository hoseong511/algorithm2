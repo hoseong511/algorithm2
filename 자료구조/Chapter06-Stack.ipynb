{
 "cells": [
  {
   "cell_type": "markdown",
   "id": "mounted-ultimate",
   "metadata": {},
   "source": [
    "리스트 변수로 스택을 다루는 pop, push 기능 구현하기"
   ]
  },
  {
   "cell_type": "code",
   "execution_count": 10,
   "id": "offensive-nickname",
   "metadata": {},
   "outputs": [],
   "source": [
    "arr = []\n",
    "\n",
    "def push(i):\n",
    "    arr.append(i)\n",
    "\n",
    "def pop():\n",
    "    data = arr[-1]\n",
    "    del arr[-1]\n",
    "    return data"
   ]
  },
  {
   "cell_type": "code",
   "execution_count": 13,
   "id": "urban-ending",
   "metadata": {},
   "outputs": [],
   "source": [
    "for i in range(10):\n",
    "    push(i)"
   ]
  },
  {
   "cell_type": "code",
   "execution_count": 14,
   "id": "middle-champagne",
   "metadata": {},
   "outputs": [
    {
     "data": {
      "text/plain": [
       "[3, 0, 1, 2, 3, 4, 5, 6, 7, 8, 9]"
      ]
     },
     "execution_count": 14,
     "metadata": {},
     "output_type": "execute_result"
    }
   ],
   "source": [
    "arr"
   ]
  },
  {
   "cell_type": "code",
   "execution_count": 22,
   "id": "forty-latin",
   "metadata": {},
   "outputs": [
    {
     "data": {
      "text/plain": [
       "3"
      ]
     },
     "execution_count": 22,
     "metadata": {},
     "output_type": "execute_result"
    }
   ],
   "source": [
    "pop()"
   ]
  },
  {
   "cell_type": "code",
   "execution_count": 23,
   "id": "incoming-bulletin",
   "metadata": {},
   "outputs": [
    {
     "data": {
      "text/plain": [
       "[3, 0, 1, 2]"
      ]
     },
     "execution_count": 23,
     "metadata": {},
     "output_type": "execute_result"
    }
   ],
   "source": [
    "arr"
   ]
  },
  {
   "cell_type": "code",
   "execution_count": null,
   "id": "czech-benchmark",
   "metadata": {},
   "outputs": [],
   "source": []
  }
 ],
 "metadata": {
  "kernelspec": {
   "display_name": "Python 3",
   "language": "python",
   "name": "python3"
  },
  "language_info": {
   "codemirror_mode": {
    "name": "ipython",
    "version": 3
   },
   "file_extension": ".py",
   "mimetype": "text/x-python",
   "name": "python",
   "nbconvert_exporter": "python",
   "pygments_lexer": "ipython3",
   "version": "3.8.8"
  }
 },
 "nbformat": 4,
 "nbformat_minor": 5
}
