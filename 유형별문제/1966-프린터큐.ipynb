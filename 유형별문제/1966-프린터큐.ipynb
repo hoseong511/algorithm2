{
 "cells": [
  {
   "cell_type": "code",
   "execution_count": 8,
   "metadata": {},
   "outputs": [
    {
     "name": "stdin",
     "output_type": "stream",
     "text": [
      " 1\n",
      " 4 2\n",
      " 1 2 3 4\n"
     ]
    },
    {
     "name": "stdout",
     "output_type": "stream",
     "text": [
      "2\n"
     ]
    }
   ],
   "source": [
    "\n",
    "test = int(input())\n",
    "for _ in range(test):\n",
    "    n, m = map(int, input().split())        \n",
    "    queue = list(map(int, input().split()))\n",
    "    queue = [(val, index) for index, val in enumerate(queue)]\n",
    "    count = 0    \n",
    "    while True:\n",
    "        if queue[0][0] == max(queue)[0]:\n",
    "            count+=1\n",
    "            if queue[0][1] == m:\n",
    "                print(count)\n",
    "                break\n",
    "            queue.pop(0)\n",
    "        else:\n",
    "            queue.append(queue.pop(0))"
   ]
  },
  {
   "cell_type": "code",
   "execution_count": null,
   "metadata": {},
   "outputs": [],
   "source": [
    "i"
   ]
  }
 ],
 "metadata": {
  "kernelspec": {
   "display_name": "Python 3",
   "language": "python",
   "name": "python3"
  },
  "language_info": {
   "codemirror_mode": {
    "name": "ipython",
    "version": 3
   },
   "file_extension": ".py",
   "mimetype": "text/x-python",
   "name": "python",
   "nbconvert_exporter": "python",
   "pygments_lexer": "ipython3",
   "version": "3.7.6"
  }
 },
 "nbformat": 4,
 "nbformat_minor": 4
}
