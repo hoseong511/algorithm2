{
 "cells": [
  {
   "cell_type": "code",
   "execution_count": 4,
   "metadata": {},
   "outputs": [],
   "source": [
    "def quick(arr=[]):\n",
    "    if len(arr) <= 1:\n",
    "        return arr\n",
    "    pivot=arr[0]\n",
    "    right=list()\n",
    "    left=list()\n",
    "    for i in range(1, len(arr)):\n",
    "        if pivot < arr[i]:\n",
    "            right.append(arr[i])\n",
    "        else:\n",
    "            left.append(arr[i])\n",
    "    return quick(left) + [pivot] + quick(right)"
   ]
  },
  {
   "cell_type": "code",
   "execution_count": 5,
   "metadata": {},
   "outputs": [
    {
     "name": "stdin",
     "output_type": "stream",
     "text": [
      " 5\n",
      " 1\n",
      " 9\n",
      " 8\n",
      " 2\n",
      " 3\n"
     ]
    },
    {
     "name": "stdout",
     "output_type": "stream",
     "text": [
      "1\n",
      "2\n",
      "3\n",
      "8\n",
      "9\n"
     ]
    }
   ],
   "source": [
    "import sys\n",
    "n = int(input())\n",
    "arr = list()\n",
    "for i in range(n):\n",
    "    arr.append(int(input()))\n",
    "arr = quick(arr)\n",
    "for _ in arr:\n",
    "    print(_)\n"
   ]
  },
  {
   "cell_type": "code",
   "execution_count": null,
   "metadata": {},
   "outputs": [],
   "source": []
  }
 ],
 "metadata": {
  "kernelspec": {
   "display_name": "Python 3",
   "language": "python",
   "name": "python3"
  },
  "language_info": {
   "codemirror_mode": {
    "name": "ipython",
    "version": 3
   },
   "file_extension": ".py",
   "mimetype": "text/x-python",
   "name": "python",
   "nbconvert_exporter": "python",
   "pygments_lexer": "ipython3",
   "version": "3.7.6"
  }
 },
 "nbformat": 4,
 "nbformat_minor": 4
}
