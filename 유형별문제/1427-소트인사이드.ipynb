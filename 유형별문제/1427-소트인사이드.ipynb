{
 "cells": [
  {
   "cell_type": "code",
   "execution_count": 4,
   "metadata": {},
   "outputs": [
    {
     "name": "stdin",
     "output_type": "stream",
     "text": [
      " 123456\n"
     ]
    },
    {
     "name": "stdout",
     "output_type": "stream",
     "text": [
      "654321\n"
     ]
    }
   ],
   "source": [
    "def quick(data_list=[]):\n",
    "    if len(data_list) <= 1:\n",
    "        return data_list\n",
    "    left = list()\n",
    "    right = list()\n",
    "    \n",
    "    pivot = data_list[0]\n",
    "    for _ in range(1, len(data_list)):\n",
    "        if pivot < data_list[_]:\n",
    "            right.append(data_list[_])\n",
    "        else:\n",
    "            left.append(data_list[_])\n",
    "    return quick(right)+[pivot]+quick(left)\n",
    "\n",
    "\n",
    "arr = list(map(int,input()))\n",
    "arr = sorted(arr, reverse=True)\n",
    "arr = list(map(str, arr))\n",
    "print(''.join(arr))"
   ]
  },
  {
   "cell_type": "code",
   "execution_count": null,
   "metadata": {},
   "outputs": [],
   "source": []
  }
 ],
 "metadata": {
  "kernelspec": {
   "display_name": "Python 3",
   "language": "python",
   "name": "python3"
  },
  "language_info": {
   "codemirror_mode": {
    "name": "ipython",
    "version": 3
   },
   "file_extension": ".py",
   "mimetype": "text/x-python",
   "name": "python",
   "nbconvert_exporter": "python",
   "pygments_lexer": "ipython3",
   "version": "3.7.6"
  }
 },
 "nbformat": 4,
 "nbformat_minor": 4
}
