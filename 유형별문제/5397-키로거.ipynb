{
 "cells": [
  {
   "cell_type": "code",
   "execution_count": 1,
   "metadata": {},
   "outputs": [
    {
     "name": "stdin",
     "output_type": "stream",
     "text": [
      " 2\n",
      " <<BP<A>>Cd-\n"
     ]
    },
    {
     "name": "stdout",
     "output_type": "stream",
     "text": [
      "BAPC\n"
     ]
    },
    {
     "name": "stdin",
     "output_type": "stream",
     "text": [
      " qweasfafasdfasd<a\n"
     ]
    },
    {
     "name": "stdout",
     "output_type": "stream",
     "text": [
      "qweasfafasdfasad\n"
     ]
    }
   ],
   "source": [
    "test = int(input())\n",
    "for _ in range(test):\n",
    "    data = input()\n",
    "    left_stack = list()\n",
    "    right_stack = list()\n",
    "    for a in data:\n",
    "        if a == '-':\n",
    "            if left_stack:\n",
    "                left_stack.pop()\n",
    "        elif a == '>':\n",
    "            if right_stack:\n",
    "                left_stack.append(right_stack.pop())\n",
    "        elif a =='<':\n",
    "            if left_stack:\n",
    "                right_stack.append(left_stack.pop())\n",
    "        else:\n",
    "            left_stack.append(a)\n",
    "    left_stack += reversed(right_stack)\n",
    "    print(''.join(left_stack))\n",
    "        "
   ]
  },
  {
   "cell_type": "code",
   "execution_count": null,
   "metadata": {},
   "outputs": [],
   "source": []
  }
 ],
 "metadata": {
  "kernelspec": {
   "display_name": "Python 3",
   "language": "python",
   "name": "python3"
  },
  "language_info": {
   "codemirror_mode": {
    "name": "ipython",
    "version": 3
   },
   "file_extension": ".py",
   "mimetype": "text/x-python",
   "name": "python",
   "nbconvert_exporter": "python",
   "pygments_lexer": "ipython3",
   "version": "3.7.6"
  }
 },
 "nbformat": 4,
 "nbformat_minor": 4
}
