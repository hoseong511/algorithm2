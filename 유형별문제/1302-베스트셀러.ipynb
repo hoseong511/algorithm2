{
 "cells": [
  {
   "cell_type": "code",
   "execution_count": 17,
   "metadata": {},
   "outputs": [
    {
     "name": "stdin",
     "output_type": "stream",
     "text": [
      " 5\n",
      " b\n",
      " b\n",
      " a\n",
      " a\n",
      " c\n"
     ]
    },
    {
     "name": "stdout",
     "output_type": "stream",
     "text": [
      "dict_items([('b', 2), ('a', 2), ('c', 1)])\n",
      "[('a', 2), ('b', 2), ('c', 1)]\n",
      "a\n"
     ]
    }
   ],
   "source": [
    "sell_dict = dict()\n",
    "n = int(input())\n",
    "for _ in range(n):\n",
    "    book = input()\n",
    "    if book in sell_dict:\n",
    "        sell_dict[book] += 1\n",
    "    else:\n",
    "        sell_dict[book] = 1\n",
    "print(sell_dict.items())\n",
    "best = sorted(sell_dict.items(), key = lambda x: (-x[1],x[0]) ) # -는 내림차순 +는 오름차순\n",
    "print(best)\n",
    "print(best[0][0])"
   ]
  },
  {
   "cell_type": "code",
   "execution_count": null,
   "metadata": {},
   "outputs": [],
   "source": []
  }
 ],
 "metadata": {
  "kernelspec": {
   "display_name": "Python 3",
   "language": "python",
   "name": "python3"
  },
  "language_info": {
   "codemirror_mode": {
    "name": "ipython",
    "version": 3
   },
   "file_extension": ".py",
   "mimetype": "text/x-python",
   "name": "python",
   "nbconvert_exporter": "python",
   "pygments_lexer": "ipython3",
   "version": "3.7.6"
  }
 },
 "nbformat": 4,
 "nbformat_minor": 4
}
