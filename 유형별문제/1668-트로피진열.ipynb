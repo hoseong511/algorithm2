{
 "cells": [
  {
   "cell_type": "code",
   "execution_count": null,
   "metadata": {},
   "outputs": [],
   "source": [
    "n = int(input())\n",
    "tropies = []\n",
    "for _ in range(n):\n",
    "    tropies.append(int(input()))\n",
    "big = max(tropies)\n",
    "if tropies.count(big) > 1:\n",
    "    tropies.count(big)\n",
    "else:\n",
    "    index = tropies.index(big)\n",
    "    left = len(tropies[:index]) + 1\n",
    "    right = len(tropies) - left + 1\n",
    "print(left)\n",
    "print(right)"
   ]
  }
 ],
 "metadata": {
  "kernelspec": {
   "display_name": "Python 3",
   "language": "python",
   "name": "python3"
  },
  "language_info": {
   "codemirror_mode": {
    "name": "ipython",
    "version": 3
   },
   "file_extension": ".py",
   "mimetype": "text/x-python",
   "name": "python",
   "nbconvert_exporter": "python",
   "pygments_lexer": "ipython3",
   "version": "3.7.6"
  }
 },
 "nbformat": 4,
 "nbformat_minor": 4
}
