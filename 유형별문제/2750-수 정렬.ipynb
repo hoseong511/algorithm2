{
 "cells": [
  {
   "cell_type": "code",
   "execution_count": 6,
   "metadata": {},
   "outputs": [
    {
     "name": "stdin",
     "output_type": "stream",
     "text": [
      " 3\n",
      " 3\n",
      " 9\n",
      " 4\n"
     ]
    },
    {
     "name": "stdout",
     "output_type": "stream",
     "text": [
      "3\n",
      "4\n",
      "9\n"
     ]
    }
   ],
   "source": [
    "   \n",
    "def quick(data_list=[]):\n",
    "    if len(data_list) <= 1:\n",
    "        return data_list\n",
    "    left = list()\n",
    "    right = list()\n",
    "    \n",
    "    pivot = data_list[0]\n",
    "    for _ in range(1, len(data_list)):\n",
    "        if pivot < data_list[_]:\n",
    "            right.append(data_list[_])\n",
    "        else:\n",
    "            left.append(data_list[_])\n",
    "    return quick(left)+[pivot]+quick(right)\n",
    "\n",
    "\n",
    "n = int(input())\n",
    "arr = list()\n",
    "for _ in range(n):\n",
    "    arr.append(int(input()))\n",
    "arr = quick(arr)\n",
    "for _ in arr:\n",
    "    print(_)"
   ]
  },
  {
   "cell_type": "code",
   "execution_count": null,
   "metadata": {},
   "outputs": [],
   "source": []
  }
 ],
 "metadata": {
  "kernelspec": {
   "display_name": "Python 3",
   "language": "python",
   "name": "python3"
  },
  "language_info": {
   "codemirror_mode": {
    "name": "ipython",
    "version": 3
   },
   "file_extension": ".py",
   "mimetype": "text/x-python",
   "name": "python",
   "nbconvert_exporter": "python",
   "pygments_lexer": "ipython3",
   "version": "3.7.6"
  }
 },
 "nbformat": 4,
 "nbformat_minor": 4
}
