{
 "cells": [
  {
   "cell_type": "code",
   "execution_count": 6,
   "metadata": {},
   "outputs": [
    {
     "name": "stdin",
     "output_type": "stream",
     "text": [
      " 3\n",
      " 30 go\n",
      " 29 hh\n",
      " 28 rr\n"
     ]
    },
    {
     "name": "stdout",
     "output_type": "stream",
     "text": [
      "28 rr\n",
      "29 hh\n",
      "30 go\n"
     ]
    }
   ],
   "source": [
    "n = int(input())\n",
    "member_list = list()\n",
    "for i in range(n):\n",
    "    age, name = input().split()\n",
    "    member_list.append((age, name))\n",
    "member_list = sorted(member_list, key = lambda x: x[0])\n",
    "for member in member_list: print(member[0], member[1])\n",
    "    "
   ]
  },
  {
   "cell_type": "code",
   "execution_count": null,
   "metadata": {},
   "outputs": [],
   "source": []
  }
 ],
 "metadata": {
  "kernelspec": {
   "display_name": "Python 3",
   "language": "python",
   "name": "python3"
  },
  "language_info": {
   "codemirror_mode": {
    "name": "ipython",
    "version": 3
   },
   "file_extension": ".py",
   "mimetype": "text/x-python",
   "name": "python",
   "nbconvert_exporter": "python",
   "pygments_lexer": "ipython3",
   "version": "3.7.6"
  }
 },
 "nbformat": 4,
 "nbformat_minor": 4
}
