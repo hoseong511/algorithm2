{
 "cells": [
  {
   "cell_type": "markdown",
   "metadata": {},
   "source": [
    "# 다시 풀기.."
   ]
  },
  {
   "cell_type": "code",
   "execution_count": 12,
   "metadata": {},
   "outputs": [
    {
     "name": "stdin",
     "output_type": "stream",
     "text": [
      " hoho gogo\n",
      " gogo wewe\n",
      " wewe huhu\n"
     ]
    },
    {
     "name": "stdout",
     "output_type": "stream",
     "text": [
      "dict_keys(['hoho', 'gogo', 'wewe', 'huhu'])\n"
     ]
    }
   ],
   "source": [
    "net = dict()\n",
    "\n",
    "for _ in range(3):\n",
    "    a, b = input().split()\n",
    "    if a not in net and b not in net:\n",
    "        net[a] = [b]\n",
    "        net[b] = [a]\n",
    "    elif a not in net:\n",
    "        net[a] = [b]\n",
    "        net[b].append(a)\n",
    "    elif b not in net:\n",
    "        net[b] = [a]\n",
    "        net[a].append(b)\n",
    "    else:\n",
    "        net[b].append(a)\n",
    "        net[a].append(b)\n",
    "    net_name = list(net.keys())\n",
    "    if _ == 0:\n",
    "        print(2)\n",
    "    else:\n",
    "        for name in net_name:\n",
    "            \n",
    "\n",
    "# print(net)"
   ]
  },
  {
   "cell_type": "code",
   "execution_count": null,
   "metadata": {},
   "outputs": [],
   "source": []
  }
 ],
 "metadata": {
  "kernelspec": {
   "display_name": "Python 3",
   "language": "python",
   "name": "python3"
  },
  "language_info": {
   "codemirror_mode": {
    "name": "ipython",
    "version": 3
   },
   "file_extension": ".py",
   "mimetype": "text/x-python",
   "name": "python",
   "nbconvert_exporter": "python",
   "pygments_lexer": "ipython3",
   "version": "3.7.6"
  }
 },
 "nbformat": 4,
 "nbformat_minor": 4
}
