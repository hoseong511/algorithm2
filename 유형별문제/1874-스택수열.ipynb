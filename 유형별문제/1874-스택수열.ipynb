{
 "cells": [
  {
   "cell_type": "code",
   "execution_count": null,
   "metadata": {},
   "outputs": [],
   "source": [
    "\n",
    "n = int(input())\n",
    "arr = [int(input()) for _ in range(n)]\n",
    "\n",
    "stack_list = list()\n",
    "i = 0\n",
    "max_num = max(arr)\n",
    "max_point = arr.index(max_num)\n",
    "flag = True\n",
    "for j in range(max_point, len(arr)):\n",
    "    try:\n",
    "        if arr[j] < arr[j+1]:\n",
    "            print(\"NO\")\n",
    "            flag = False\n",
    "    except:\n",
    "        pass\n",
    "for a in arr:\n",
    "    while flag:        \n",
    "        try:\n",
    "            if a == stack_list[-1]:\n",
    "                stack_list.pop()\n",
    "                print('-')\n",
    "                break        \n",
    "        except:\n",
    "            pass\n",
    "        i += 1\n",
    "        stack_list.append(i)\n",
    "        print('+')\n",
    "        "
   ]
  },
  {
   "cell_type": "code",
   "execution_count": null,
   "metadata": {},
   "outputs": [],
   "source": [
    "import sys\n",
    "n = int(input())\n",
    "stack=list()\n",
    "result=list()\n",
    "count = 0\n",
    "for i in range(n):\n",
    "    num = int(input())\n",
    "    while count < num:\n",
    "        count += 1\n",
    "        stack.append(count)\n",
    "        result.append('+')\n",
    "    if stack[-1] == num:\n",
    "        stack.pop()\n",
    "        result.append('-')\n",
    "    else:\n",
    "        print(\"NO\")\n",
    "        exit(0)\n",
    "print('\\n'.join(result))"
   ]
  }
 ],
 "metadata": {
  "kernelspec": {
   "display_name": "Python 3",
   "language": "python",
   "name": "python3"
  },
  "language_info": {
   "codemirror_mode": {
    "name": "ipython",
    "version": 3
   },
   "file_extension": ".py",
   "mimetype": "text/x-python",
   "name": "python",
   "nbconvert_exporter": "python",
   "pygments_lexer": "ipython3",
   "version": "3.7.6"
  }
 },
 "nbformat": 4,
 "nbformat_minor": 4
}
