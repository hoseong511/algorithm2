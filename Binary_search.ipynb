{
 "cells": [
  {
   "cell_type": "code",
   "execution_count": 8,
   "metadata": {},
   "outputs": [],
   "source": [
    "# 데이터 리스트에서 찾고자하는 데이터의 인덱스를 찾고 싶은데..\n",
    "\n",
    "def binary_search(data, search, idx=0):\n",
    "    if len(data)==1 and data[0]==search:\n",
    "        return True\n",
    "    if len(data)==1 and data[0]!=search:\n",
    "        return False\n",
    "    if len(data)==0:\n",
    "        return False\n",
    "    mid = len(data)//2\n",
    "    if data[mid]==search:\n",
    "        idx=mid\n",
    "        print(idx)\n",
    "        return True\n",
    "    else:        \n",
    "        if data[mid] > search:\n",
    "            return binary_search(data[:mid], search, idx)\n",
    "        else:\n",
    "            return binary_search(data[mid:], search, idx)"
   ]
  },
  {
   "cell_type": "code",
   "execution_count": 9,
   "metadata": {},
   "outputs": [
    {
     "name": "stdout",
     "output_type": "stream",
     "text": [
      "1\n"
     ]
    },
    {
     "data": {
      "text/plain": [
       "True"
      ]
     },
     "execution_count": 9,
     "metadata": {},
     "output_type": "execute_result"
    }
   ],
   "source": [
    "binary_search([1,2,3,4,5], 5)"
   ]
  },
  {
   "cell_type": "code",
   "execution_count": 16,
   "metadata": {},
   "outputs": [
    {
     "name": "stdout",
     "output_type": "stream",
     "text": [
      "[34, 49, 99, 45, 26, 7, 42, 30, 25, 20]\n"
     ]
    }
   ],
   "source": [
    "from random import *\n",
    "rand_data_list = list()\n",
    "for num in range(10):\n",
    "    rand_data_list.append(randint(1,100))\n",
    "print(rand_data_list)"
   ]
  },
  {
   "cell_type": "code",
   "execution_count": 12,
   "metadata": {},
   "outputs": [
    {
     "data": {
      "text/plain": [
       "[17, 31, 79, 34, 63, 99, 5, 33, 43, 65]"
      ]
     },
     "execution_count": 12,
     "metadata": {},
     "output_type": "execute_result"
    }
   ],
   "source": [
    "import random\n",
    "data_list = random.sample(range(100), 10)\n",
    "data_list"
   ]
  },
  {
   "cell_type": "code",
   "execution_count": null,
   "metadata": {},
   "outputs": [],
   "source": []
  }
 ],
 "metadata": {
  "kernelspec": {
   "display_name": "Python 3",
   "language": "python",
   "name": "python3"
  },
  "language_info": {
   "codemirror_mode": {
    "name": "ipython",
    "version": 3
   },
   "file_extension": ".py",
   "mimetype": "text/x-python",
   "name": "python",
   "nbconvert_exporter": "python",
   "pygments_lexer": "ipython3",
   "version": "3.7.6"
  }
 },
 "nbformat": 4,
 "nbformat_minor": 4
}
