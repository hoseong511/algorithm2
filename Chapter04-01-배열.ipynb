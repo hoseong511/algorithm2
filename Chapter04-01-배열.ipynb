{
 "cells": [
  {
   "cell_type": "markdown",
   "id": "relative-check",
   "metadata": {},
   "source": [
    "## 꼭 알아둬야 할 자료구조: 배열(Array)"
   ]
  },
  {
   "cell_type": "markdown",
   "id": "numeric-devil",
   "metadata": {},
   "source": [
    "- 데이터를 나열하고, 각 데이터를 인덱스에 대응하도록 구성한 데이터 구조\n",
    "- 파이썬에서는 리스트 타입이 배열 기능을 제공하고 있음"
   ]
  },
  {
   "cell_type": "markdown",
   "id": "enormous-easter",
   "metadata": {},
   "source": [
    "## 1. 배열이 왜 필요할까?\n",
    "- \n",
    "- 같은 타입의 데이터를 순차적으로 저장"
   ]
  },
  {
   "cell_type": "code",
   "execution_count": 2,
   "id": "owned-buying",
   "metadata": {
    "tags": []
   },
   "outputs": [
    {
     "name": "stdout",
     "output_type": "stream",
     "text": [
      "1\n"
     ]
    }
   ],
   "source": [
    "print(data)"
   ]
  }
 ],
 "metadata": {
  "kernelspec": {
   "display_name": "Python 3",
   "language": "python",
   "name": "python3"
  },
  "language_info": {
   "codemirror_mode": {
    "name": "ipython",
    "version": 3
   },
   "file_extension": ".py",
   "mimetype": "text/x-python",
   "name": "python",
   "nbconvert_exporter": "python",
   "pygments_lexer": "ipython3",
   "version": "3.8.8"
  }
 },
 "nbformat": 4,
 "nbformat_minor": 5
}
